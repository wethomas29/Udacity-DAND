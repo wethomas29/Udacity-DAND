{
 "cells": [
  {
   "cell_type": "markdown",
   "metadata": {},
   "source": [
    "Based on the data provided by Udacity through its Data Analyst Nanodegree Program, this report will summarize and illustrate charts as well as report on insights of Titanic data, which contains demographics and passenger information from 891 out of 2224 passengers and crew on board.\n",
    "\n",
    "Throughout the analysis, a number of main measures will be used frequently to answer the main questions. Examples of which include the number of passengers on board based on their passenger class: Pclass 1 for Upper Class, Pclass 2 for Middle Class, and Pclass 3 for Lower Class. \n",
    "\n",
    "The main thesis in this report will be based on passenger class and the variables that curculate around it. It will be answereing question of: where did most of the passengers stayed during their time on the titanic, and how do other variables, such as sex ( male or female), age, and fare that led to survival(Survived = 1) or death (Survived = 0). \n",
    "\n",
    "\n",
    "Specific Questions for this Dataset:\n",
    "•\tHow many passengers boarded the titanic based on Pclass?\n",
    "•\tHow many males and females were on the titanic based on Pclass?\n",
    "•\tHow many passengers survived based on Pclass?\n",
    "•\tBased on those who survived and those who didn’t, were they male or female ?\n",
    "•\tWhat is the survival rate of passengers based on sex and Pclass?\n",
    "•\tWhich age group had the most passengers on the titanic?\n",
    "•\tFor passengers who lived,  what age group stood out?\n",
    "•\tWhat was the average age of passengers who survived based on Pclass and sex?\n",
    "•\tFor passengers who died, what age group stood out?\n",
    "•\tWhat was the average age of passengers who died based on Pclass and sex?\n",
    "•\tWho didn’t pay any fare on the titanic?\n",
    "•\tWhat was the average fare for each Pclass?\n",
    "•\tWho paid the highest fare?\n",
    "•\tWho paid the lowest fare?\n",
    "\n",
    "\n",
    "\n",
    "Comprehensively, on the Titanic, there are a total of 2224 passengers, but we will be analyzing only 891 (roughly 40 percent of all data.)\n",
    "At the end of the report there will be a summary, conclusions about passengers on the titanic based on the data given. \n",
    "\n"
   ]
  },
  {
   "cell_type": "markdown",
   "metadata": {},
   "source": [
    "# 1. Introduction to the Titanic Dataset"
   ]
  },
  {
   "cell_type": "code",
   "execution_count": 3,
   "metadata": {
    "collapsed": true
   },
   "outputs": [],
   "source": [
    "# Importing libraries pertaining to this project:\n",
    "import numpy as np\n",
    "import pandas as pd\n",
    "from matplotlib import pyplot as plt "
   ]
  },
  {
   "cell_type": "code",
   "execution_count": 4,
   "metadata": {
    "scrolled": true
   },
   "outputs": [
    {
     "data": {
      "text/html": [
       "<div>\n",
       "<style>\n",
       "    .dataframe thead tr:only-child th {\n",
       "        text-align: right;\n",
       "    }\n",
       "\n",
       "    .dataframe thead th {\n",
       "        text-align: left;\n",
       "    }\n",
       "\n",
       "    .dataframe tbody tr th {\n",
       "        vertical-align: top;\n",
       "    }\n",
       "</style>\n",
       "<table border=\"1\" class=\"dataframe\">\n",
       "  <thead>\n",
       "    <tr style=\"text-align: right;\">\n",
       "      <th></th>\n",
       "      <th>PassengerId</th>\n",
       "      <th>Survived</th>\n",
       "      <th>Pclass</th>\n",
       "      <th>Name</th>\n",
       "      <th>Sex</th>\n",
       "      <th>Age</th>\n",
       "      <th>SibSp</th>\n",
       "      <th>Parch</th>\n",
       "      <th>Ticket</th>\n",
       "      <th>Fare</th>\n",
       "      <th>Cabin</th>\n",
       "      <th>Embarked</th>\n",
       "    </tr>\n",
       "  </thead>\n",
       "  <tbody>\n",
       "    <tr>\n",
       "      <th>0</th>\n",
       "      <td>1</td>\n",
       "      <td>0</td>\n",
       "      <td>3</td>\n",
       "      <td>Braund, Mr. Owen Harris</td>\n",
       "      <td>male</td>\n",
       "      <td>22.0</td>\n",
       "      <td>1</td>\n",
       "      <td>0</td>\n",
       "      <td>A/5 21171</td>\n",
       "      <td>7.2500</td>\n",
       "      <td>NaN</td>\n",
       "      <td>S</td>\n",
       "    </tr>\n",
       "    <tr>\n",
       "      <th>1</th>\n",
       "      <td>2</td>\n",
       "      <td>1</td>\n",
       "      <td>1</td>\n",
       "      <td>Cumings, Mrs. John Bradley (Florence Briggs Th...</td>\n",
       "      <td>female</td>\n",
       "      <td>38.0</td>\n",
       "      <td>1</td>\n",
       "      <td>0</td>\n",
       "      <td>PC 17599</td>\n",
       "      <td>71.2833</td>\n",
       "      <td>C85</td>\n",
       "      <td>C</td>\n",
       "    </tr>\n",
       "    <tr>\n",
       "      <th>2</th>\n",
       "      <td>3</td>\n",
       "      <td>1</td>\n",
       "      <td>3</td>\n",
       "      <td>Heikkinen, Miss. Laina</td>\n",
       "      <td>female</td>\n",
       "      <td>26.0</td>\n",
       "      <td>0</td>\n",
       "      <td>0</td>\n",
       "      <td>STON/O2. 3101282</td>\n",
       "      <td>7.9250</td>\n",
       "      <td>NaN</td>\n",
       "      <td>S</td>\n",
       "    </tr>\n",
       "    <tr>\n",
       "      <th>3</th>\n",
       "      <td>4</td>\n",
       "      <td>1</td>\n",
       "      <td>1</td>\n",
       "      <td>Futrelle, Mrs. Jacques Heath (Lily May Peel)</td>\n",
       "      <td>female</td>\n",
       "      <td>35.0</td>\n",
       "      <td>1</td>\n",
       "      <td>0</td>\n",
       "      <td>113803</td>\n",
       "      <td>53.1000</td>\n",
       "      <td>C123</td>\n",
       "      <td>S</td>\n",
       "    </tr>\n",
       "    <tr>\n",
       "      <th>4</th>\n",
       "      <td>5</td>\n",
       "      <td>0</td>\n",
       "      <td>3</td>\n",
       "      <td>Allen, Mr. William Henry</td>\n",
       "      <td>male</td>\n",
       "      <td>35.0</td>\n",
       "      <td>0</td>\n",
       "      <td>0</td>\n",
       "      <td>373450</td>\n",
       "      <td>8.0500</td>\n",
       "      <td>NaN</td>\n",
       "      <td>S</td>\n",
       "    </tr>\n",
       "  </tbody>\n",
       "</table>\n",
       "</div>"
      ],
      "text/plain": [
       "   PassengerId  Survived  Pclass  \\\n",
       "0            1         0       3   \n",
       "1            2         1       1   \n",
       "2            3         1       3   \n",
       "3            4         1       1   \n",
       "4            5         0       3   \n",
       "\n",
       "                                                Name     Sex   Age  SibSp  \\\n",
       "0                            Braund, Mr. Owen Harris    male  22.0      1   \n",
       "1  Cumings, Mrs. John Bradley (Florence Briggs Th...  female  38.0      1   \n",
       "2                             Heikkinen, Miss. Laina  female  26.0      0   \n",
       "3       Futrelle, Mrs. Jacques Heath (Lily May Peel)  female  35.0      1   \n",
       "4                           Allen, Mr. William Henry    male  35.0      0   \n",
       "\n",
       "   Parch            Ticket     Fare Cabin Embarked  \n",
       "0      0         A/5 21171   7.2500   NaN        S  \n",
       "1      0          PC 17599  71.2833   C85        C  \n",
       "2      0  STON/O2. 3101282   7.9250   NaN        S  \n",
       "3      0            113803  53.1000  C123        S  \n",
       "4      0            373450   8.0500   NaN        S  "
      ]
     },
     "execution_count": 4,
     "metadata": {},
     "output_type": "execute_result"
    }
   ],
   "source": [
    "#Reading CSV File into Pandas DataFrame\n",
    "titanic_set = pd.read_csv('Titanic Dataset.csv')\n",
    "titanic_set.head()"
   ]
  },
  {
   "cell_type": "markdown",
   "metadata": {},
   "source": [
    "# 2. Cleaning Data (Removing uneeded variables)"
   ]
  },
  {
   "cell_type": "markdown",
   "metadata": {
    "raw_mimetype": "text/markdown"
   },
   "source": [
    "# Removing some data\n",
    "After looking at the printout of the DataFrame containing the available information about the passengers, \n",
    "I decided to remove three of the columns. The new dataset will be called titanic_newset\n",
    "Those were:\n",
    "\n",
    "\n",
    "Ticket\n",
    "Embarked\n",
    "Cabin"
   ]
  },
  {
   "cell_type": "code",
   "execution_count": 5,
   "metadata": {},
   "outputs": [
    {
     "data": {
      "text/html": [
       "<div>\n",
       "<style>\n",
       "    .dataframe thead tr:only-child th {\n",
       "        text-align: right;\n",
       "    }\n",
       "\n",
       "    .dataframe thead th {\n",
       "        text-align: left;\n",
       "    }\n",
       "\n",
       "    .dataframe tbody tr th {\n",
       "        vertical-align: top;\n",
       "    }\n",
       "</style>\n",
       "<table border=\"1\" class=\"dataframe\">\n",
       "  <thead>\n",
       "    <tr style=\"text-align: right;\">\n",
       "      <th></th>\n",
       "      <th>PassengerId</th>\n",
       "      <th>Survived</th>\n",
       "      <th>Pclass</th>\n",
       "      <th>Name</th>\n",
       "      <th>Sex</th>\n",
       "      <th>Age</th>\n",
       "      <th>SibSp</th>\n",
       "      <th>Parch</th>\n",
       "      <th>Fare</th>\n",
       "    </tr>\n",
       "  </thead>\n",
       "  <tbody>\n",
       "    <tr>\n",
       "      <th>0</th>\n",
       "      <td>1</td>\n",
       "      <td>0</td>\n",
       "      <td>3</td>\n",
       "      <td>Braund, Mr. Owen Harris</td>\n",
       "      <td>male</td>\n",
       "      <td>22.0</td>\n",
       "      <td>1</td>\n",
       "      <td>0</td>\n",
       "      <td>7.2500</td>\n",
       "    </tr>\n",
       "    <tr>\n",
       "      <th>1</th>\n",
       "      <td>2</td>\n",
       "      <td>1</td>\n",
       "      <td>1</td>\n",
       "      <td>Cumings, Mrs. John Bradley (Florence Briggs Th...</td>\n",
       "      <td>female</td>\n",
       "      <td>38.0</td>\n",
       "      <td>1</td>\n",
       "      <td>0</td>\n",
       "      <td>71.2833</td>\n",
       "    </tr>\n",
       "    <tr>\n",
       "      <th>2</th>\n",
       "      <td>3</td>\n",
       "      <td>1</td>\n",
       "      <td>3</td>\n",
       "      <td>Heikkinen, Miss. Laina</td>\n",
       "      <td>female</td>\n",
       "      <td>26.0</td>\n",
       "      <td>0</td>\n",
       "      <td>0</td>\n",
       "      <td>7.9250</td>\n",
       "    </tr>\n",
       "    <tr>\n",
       "      <th>3</th>\n",
       "      <td>4</td>\n",
       "      <td>1</td>\n",
       "      <td>1</td>\n",
       "      <td>Futrelle, Mrs. Jacques Heath (Lily May Peel)</td>\n",
       "      <td>female</td>\n",
       "      <td>35.0</td>\n",
       "      <td>1</td>\n",
       "      <td>0</td>\n",
       "      <td>53.1000</td>\n",
       "    </tr>\n",
       "    <tr>\n",
       "      <th>4</th>\n",
       "      <td>5</td>\n",
       "      <td>0</td>\n",
       "      <td>3</td>\n",
       "      <td>Allen, Mr. William Henry</td>\n",
       "      <td>male</td>\n",
       "      <td>35.0</td>\n",
       "      <td>0</td>\n",
       "      <td>0</td>\n",
       "      <td>8.0500</td>\n",
       "    </tr>\n",
       "  </tbody>\n",
       "</table>\n",
       "</div>"
      ],
      "text/plain": [
       "   PassengerId  Survived  Pclass  \\\n",
       "0            1         0       3   \n",
       "1            2         1       1   \n",
       "2            3         1       3   \n",
       "3            4         1       1   \n",
       "4            5         0       3   \n",
       "\n",
       "                                                Name     Sex   Age  SibSp  \\\n",
       "0                            Braund, Mr. Owen Harris    male  22.0      1   \n",
       "1  Cumings, Mrs. John Bradley (Florence Briggs Th...  female  38.0      1   \n",
       "2                             Heikkinen, Miss. Laina  female  26.0      0   \n",
       "3       Futrelle, Mrs. Jacques Heath (Lily May Peel)  female  35.0      1   \n",
       "4                           Allen, Mr. William Henry    male  35.0      0   \n",
       "\n",
       "   Parch     Fare  \n",
       "0      0   7.2500  \n",
       "1      0  71.2833  \n",
       "2      0   7.9250  \n",
       "3      0  53.1000  \n",
       "4      0   8.0500  "
      ]
     },
     "execution_count": 5,
     "metadata": {},
     "output_type": "execute_result"
    }
   ],
   "source": [
    "titanic_newset = titanic_set.drop(['Ticket','Cabin', 'Embarked',], 1)\n",
    "titanic_newset.head()"
   ]
  },
  {
   "cell_type": "markdown",
   "metadata": {},
   "source": [
    "# Any Missing Values ?"
   ]
  },
  {
   "cell_type": "markdown",
   "metadata": {},
   "source": [
    "There is a good number of null values for the column age. 177 is a considerable amount of null data and must be taken in consideration for further analysis."
   ]
  },
  {
   "cell_type": "code",
   "execution_count": 35,
   "metadata": {},
   "outputs": [
    {
     "data": {
      "text/plain": [
       "PassengerId      0\n",
       "Survived         0\n",
       "Pclass           0\n",
       "Name             0\n",
       "Sex              0\n",
       "Age            177\n",
       "SibSp            0\n",
       "Parch            0\n",
       "Fare             0\n",
       "dtype: int64"
      ]
     },
     "execution_count": 35,
     "metadata": {},
     "output_type": "execute_result"
    }
   ],
   "source": [
    "titanic_newset.isnull().sum()"
   ]
  },
  {
   "cell_type": "markdown",
   "metadata": {},
   "source": [
    "# Total Passengers based on Pclass"
   ]
  },
  {
   "cell_type": "markdown",
   "metadata": {},
   "source": [
    "Based on the 891 passengers recorded in the dataset, it is safe to say that the majority of passengers on the Titanic were in Pclass 3, the Lower class, with a total of 491. Pclass 1, the Upper class area, came in second with 216 passengers. P2, the middle class, came in third with the least amount of passengers with 184. This is a good start. We now know that over 50% of the passengers on board were stored in the lower deck of the ship. This could impmly that the majority of passengers in Pclass 3 had a difficult time fighting for survival than others in their respected passenger class. More analysis must me done. "
   ]
  },
  {
   "cell_type": "code",
   "execution_count": 6,
   "metadata": {},
   "outputs": [
    {
     "name": "stdout",
     "output_type": "stream",
     "text": [
      "Pclass\n",
      "1    216\n",
      "2    184\n",
      "3    491\n",
      "Name: PassengerId, dtype: int64\n"
     ]
    }
   ],
   "source": [
    "# Count how many passengers were within each Pclass\n",
    "passenger_pclass = titanic_newset.groupby(['Pclass']).count()['PassengerId']\n",
    "print(passenger_pclass)"
   ]
  },
  {
   "cell_type": "markdown",
   "metadata": {},
   "source": [
    "# Survival based on Pclass"
   ]
  },
  {
   "cell_type": "markdown",
   "metadata": {},
   "source": [
    "In the first set, we discovered that the majority of passengers on the Titanic were located in Pclass 3. According to the data below,it is shown that passengers in Pclass 3 suffered greatly as most of them died, not only within their own passenger class but out of all passenger classes in the dataset. What's interesting is that the majority of passengers in Pclass 1 were able to survive after being on the titanic. A little over 50% of passengers in Pclass 2 died during the sinking of the titanic, while the others within that class survived. "
   ]
  },
  {
   "cell_type": "code",
   "execution_count": 7,
   "metadata": {},
   "outputs": [
    {
     "name": "stdout",
     "output_type": "stream",
     "text": [
      "Survived    0    1\n",
      "Pclass            \n",
      "1          80  136\n",
      "2          97   87\n",
      "3         372  119\n"
     ]
    }
   ],
   "source": [
    "pclass_survival = titanic_newset.groupby(['Pclass','Survived'])['PassengerId'].count().unstack()\n",
    "print(pclass_survival)"
   ]
  },
  {
   "cell_type": "markdown",
   "metadata": {},
   "source": [
    "# Sex based on Pclass"
   ]
  },
  {
   "cell_type": "markdown",
   "metadata": {},
   "source": [
    "According to the datset, males ruled the titanic in terms of population as they outnumber females in every passenger class.The males in pclass 3 outnumber all the other males in the first two classes by a longshot with 347 passengers. Another interesting note is the amount of females that were in the third passenger class. The females in that class outnumber the females in the first two classes with 144 passengers. "
   ]
  },
  {
   "cell_type": "code",
   "execution_count": 8,
   "metadata": {},
   "outputs": [
    {
     "name": "stdout",
     "output_type": "stream",
     "text": [
      "Sex     female  male\n",
      "Pclass              \n",
      "1           94   122\n",
      "2           76   108\n",
      "3          144   347\n"
     ]
    }
   ],
   "source": [
    "#Create a histogram that shows the ages of people on the titanic. \n",
    "survivor_sex = titanic_newset.groupby(['Pclass','Sex'])['PassengerId'].count().unstack()\n",
    "print(survivor_sex)"
   ]
  },
  {
   "cell_type": "markdown",
   "metadata": {},
   "source": [
    "# Pclass and Survival based on Sex"
   ]
  },
  {
   "cell_type": "markdown",
   "metadata": {},
   "source": [
    "This bar chart analyzes the passenger class and the survival data based on whether they were male (blue) or female (green). This plot is prettt interesting. It shows for the most part women that were a priority for safety and survival, particularly within the passenger classes 1 and 2. For females in passenger class 3, according to the chart, it seems that roughly half of them survied while the other half died during the sinking of the Titanic. Many males, especially males in passenger class 3, perished while on the sinking ship when compared to the males that survived. What was interesting is the amount of males that actually survived. One thing for sure is that women and children (male or female) were priority for saftey be for adult males (atleast in the movies).\n",
    "\n"
   ]
  },
  {
   "cell_type": "code",
   "execution_count": 9,
   "metadata": {},
   "outputs": [
    {
     "name": "stdout",
     "output_type": "stream",
     "text": [
      "Populating the interactive namespace from numpy and matplotlib\n"
     ]
    },
    {
     "data": {
      "text/plain": [
       "<matplotlib.text.Text at 0x26d585e6710>"
      ]
     },
     "execution_count": 9,
     "metadata": {},
     "output_type": "execute_result"
    },
    {
     "data": {
      "image/png": "[encoded data removed]",
      "text/plain": [
       "<matplotlib.figure.Figure at 0x26d58555358>"
      ]
     },
     "metadata": {},
     "output_type": "display_data"
    }
   ],
   "source": [
    "\n",
    "survivor_sex_pclass = titanic_set.groupby(['Sex','Survived','Pclass'])['PassengerId'].count().unstack('Sex')\n",
    "\n",
    "% pylab inline\n",
    "survivor_sex_pclass[['male','female']].plot(kind='bar', stacked=False) \n",
    "plt.title(\"Pclass and Survival based on Sex\")"
   ]
  },
  {
   "cell_type": "markdown",
   "metadata": {},
   "source": [
    "This set basically shows the average percentage of survival for both sexes based on passenger class. It shows that females in pclass 1 and 2 had a very high rate of survival, which means they were mostly likely to live during the sinking of titanic. Females in the third passenger class, like stated earlier, had a 50% chance of surival while on the titanic. This set alone shows that women were indeed a priority for ensuring saftey during the sinking of the titanic, but the data for men shows a differnt story. Males had less than a 50% survival rate for every pclass. Even though males had a low survival rate all across the board, men in passenger class 1 had a higher surival percentage of 36.9%. Males in passenger class 2 and 3 had percentages of 15.7% and 13.5% respectively. If you were a male on the titanic in passenger class 2 and 3, your chances of survival were very slim."
   ]
  },
  {
   "cell_type": "code",
   "execution_count": 10,
   "metadata": {},
   "outputs": [
    {
     "data": {
      "text/plain": [
       "Sex     Pclass\n",
       "female  1         0.968085\n",
       "        2         0.921053\n",
       "        3         0.500000\n",
       "male    1         0.368852\n",
       "        2         0.157407\n",
       "        3         0.135447\n",
       "Name: Survived, dtype: float64"
      ]
     },
     "execution_count": 10,
     "metadata": {},
     "output_type": "execute_result"
    }
   ],
   "source": [
    "survival_by_sex_pclass = titanic_newset.groupby(['Sex', 'Pclass']).mean()['Survived']\n",
    "survival_by_sex_pclass"
   ]
  },
  {
   "cell_type": "markdown",
   "metadata": {},
   "source": [
    "That being said, even though it shows that women were a priority for survival, age could also play a factor (children on the ship) in the survival and non survival of passengers on the Titanic. Some questions we would like to ask consit of: What is the breakdown of age based on the passengers on the ship, what were the ages for the passangers who lived and the passengers who died, what were the ages for the passengers who lived that were male and the passengers who were female. More analysis must be done."
   ]
  },
  {
   "cell_type": "markdown",
   "metadata": {},
   "source": [
    "# Age"
   ]
  },
  {
   "cell_type": "markdown",
   "metadata": {},
   "source": [
    "Before we begin, it should be noted that based on 891 passengers, 177 of them have null data for age. The data below is the statistical values for  the variable 'Age'. The dataset accounts for 891 passengers on the titanic but only has 'Age' accounted for 714 of the passengers. The average age of all passengers reported in the titanic datset is roughly 30 (29.6). The standard deviation of 'Age' in this dataset is 14.53, which tells me that the data for the variable is spread out. The youngest person on the ship is .42 years old, a baby, while the oldest person is 80 years old."
   ]
  },
  {
   "cell_type": "code",
   "execution_count": 11,
   "metadata": {},
   "outputs": [
    {
     "data": {
      "text/html": [
       "<div>\n",
       "<style>\n",
       "    .dataframe thead tr:only-child th {\n",
       "        text-align: right;\n",
       "    }\n",
       "\n",
       "    .dataframe thead th {\n",
       "        text-align: left;\n",
       "    }\n",
       "\n",
       "    .dataframe tbody tr th {\n",
       "        vertical-align: top;\n",
       "    }\n",
       "</style>\n",
       "<table border=\"1\" class=\"dataframe\">\n",
       "  <thead>\n",
       "    <tr style=\"text-align: right;\">\n",
       "      <th></th>\n",
       "      <th>Age</th>\n",
       "    </tr>\n",
       "  </thead>\n",
       "  <tbody>\n",
       "    <tr>\n",
       "      <th>count</th>\n",
       "      <td>714.000000</td>\n",
       "    </tr>\n",
       "    <tr>\n",
       "      <th>mean</th>\n",
       "      <td>29.699118</td>\n",
       "    </tr>\n",
       "    <tr>\n",
       "      <th>std</th>\n",
       "      <td>14.526497</td>\n",
       "    </tr>\n",
       "    <tr>\n",
       "      <th>min</th>\n",
       "      <td>0.420000</td>\n",
       "    </tr>\n",
       "    <tr>\n",
       "      <th>25%</th>\n",
       "      <td>20.125000</td>\n",
       "    </tr>\n",
       "    <tr>\n",
       "      <th>50%</th>\n",
       "      <td>28.000000</td>\n",
       "    </tr>\n",
       "    <tr>\n",
       "      <th>75%</th>\n",
       "      <td>38.000000</td>\n",
       "    </tr>\n",
       "    <tr>\n",
       "      <th>max</th>\n",
       "      <td>80.000000</td>\n",
       "    </tr>\n",
       "  </tbody>\n",
       "</table>\n",
       "</div>"
      ],
      "text/plain": [
       "              Age\n",
       "count  714.000000\n",
       "mean    29.699118\n",
       "std     14.526497\n",
       "min      0.420000\n",
       "25%     20.125000\n",
       "50%     28.000000\n",
       "75%     38.000000\n",
       "max     80.000000"
      ]
     },
     "execution_count": 11,
     "metadata": {},
     "output_type": "execute_result"
    }
   ],
   "source": [
    "titanic_set[['Age']].describe()"
   ]
  },
  {
   "cell_type": "markdown",
   "metadata": {},
   "source": [
    "# Age Histogram"
   ]
  },
  {
   "cell_type": "markdown",
   "metadata": {},
   "source": [
    "This histogram shows that the majority of passengers on the Titanic are in their 20s while passenegers in their 30s and 40s come in second and third respectively. It is safe to say that the majority of passengers were in between 20 and 40 years old. According to the histogram there were quite a number of kids on board the Titanic."
   ]
  },
  {
   "cell_type": "code",
   "execution_count": 12,
   "metadata": {},
   "outputs": [
    {
     "data": {
      "text/plain": [
       "<matplotlib.text.Text at 0x26d587f7d30>"
      ]
     },
     "execution_count": 12,
     "metadata": {},
     "output_type": "execute_result"
    },
    {
     "data": {
      "image/png": "[encoded data removed]",
      "text/plain": [
       "<matplotlib.figure.Figure at 0x26d5853d358>"
      ]
     },
     "metadata": {},
     "output_type": "display_data"
    }
   ],
   "source": [
    "titanic_newset['Age'].hist()\n",
    "plt.title('Passengers based on Age')\n",
    "plt.xlabel('Ages')\n",
    "plt.ylabel('Sum of Passengers')"
   ]
  },
  {
   "cell_type": "markdown",
   "metadata": {},
   "source": [
    "To get a better understanding about age based on who survived and who didn't , I decided to create two new variables by splitting the column Survived. The first variable represents the pasengers who didn't survive while the other variable represents those who did. "
   ]
  },
  {
   "cell_type": "code",
   "execution_count": 13,
   "metadata": {
    "collapsed": true
   },
   "outputs": [],
   "source": [
    "#Represents the passengers who died\n",
    "titanic_deceased = titanic_newset[titanic_newset[\"Survived\"] == 0]\n",
    "#Represents the passengers who survived\n",
    "titanic_living = titanic_newset[titanic_newset[\"Survived\"] == 1]"
   ]
  },
  {
   "cell_type": "markdown",
   "metadata": {},
   "source": [
    "# Living Passengers Based on Age"
   ]
  },
  {
   "cell_type": "markdown",
   "metadata": {},
   "source": [
    "A expected, there were plenty of survivors who were in their 20s and 30s since the majority of passengers. It was interesting to see how manny children(ages 0-10) were on the titanic, ranging around 35 kids saved based on the data. "
   ]
  },
  {
   "cell_type": "code",
   "execution_count": 14,
   "metadata": {},
   "outputs": [
    {
     "data": {
      "text/plain": [
       "<matplotlib.text.Text at 0x26d588c8588>"
      ]
     },
     "execution_count": 14,
     "metadata": {},
     "output_type": "execute_result"
    },
    {
     "data": {
      "image/png": "[encoded data removed]",
      "text/plain": [
       "<matplotlib.figure.Figure at 0x26d58599128>"
      ]
     },
     "metadata": {},
     "output_type": "display_data"
    }
   ],
   "source": [
    "titanic_living.hist('Age')\n",
    "plt.title('Living Passengers based on Age')\n",
    "plt.xlabel('Ages')\n",
    "plt.ylabel('Sum of Passengers')\n"
   ]
  },
  {
   "cell_type": "markdown",
   "metadata": {},
   "source": [
    "# Average Ages for Living Passengers"
   ]
  },
  {
   "cell_type": "markdown",
   "metadata": {},
   "source": [
    "Living males in passenger class 1 top the entire list as being the oldest with an average age of 36.24. Males in this class are also the oldest males out of all passenger classes. The average age for living females in passenger class 1 also top the list with an average age of 34.93, higher than the averages ages in the other classes. Living males in passenger class 2 had the youngest group out of all classes and sex with an average age of 16.02. The lowest average age for females comes from passenger class 3 with an average age of 19.33."
   ]
  },
  {
   "cell_type": "code",
   "execution_count": 15,
   "metadata": {},
   "outputs": [
    {
     "data": {
      "text/plain": [
       "Pclass  Sex   \n",
       "1       female    34.939024\n",
       "        male      36.248000\n",
       "2       female    28.080882\n",
       "        male      16.022000\n",
       "3       female    19.329787\n",
       "        male      22.274211\n",
       "Name: Age, dtype: float64"
      ]
     },
     "execution_count": 15,
     "metadata": {},
     "output_type": "execute_result"
    }
   ],
   "source": [
    "titanic_living.groupby(['Pclass','Sex'])['Age'].mean()"
   ]
  },
  {
   "cell_type": "markdown",
   "metadata": {},
   "source": [
    "# Deceased Passengers based on Age"
   ]
  },
  {
   "cell_type": "markdown",
   "metadata": {},
   "source": [
    "A expected, there were plenty of deceased passengers who were in their 20s and 30s since the majority of passengers. "
   ]
  },
  {
   "cell_type": "code",
   "execution_count": 16,
   "metadata": {},
   "outputs": [
    {
     "data": {
      "text/plain": [
       "<matplotlib.text.Text at 0x26d589963c8>"
      ]
     },
     "execution_count": 16,
     "metadata": {},
     "output_type": "execute_result"
    },
    {
     "data": {
      "image/png": "[encoded data removed]",
      "text/plain": [
       "<matplotlib.figure.Figure at 0x26d588aee10>"
      ]
     },
     "metadata": {},
     "output_type": "display_data"
    }
   ],
   "source": [
    "titanic_deceased.hist('Age')\n",
    "plt.title('Deceased Passengers based on Age')\n",
    "plt.xlabel('Ages')\n",
    "plt.ylabel('Sum of Passengers')"
   ]
  },
  {
   "cell_type": "markdown",
   "metadata": {},
   "source": [
    "# Average Ages for Deceased Passengers"
   ]
  },
  {
   "cell_type": "markdown",
   "metadata": {},
   "source": [
    "Deceased males in passenger class 1 top the entire list as being the oldest with an average age of 44.58. Males in this class are also the oldest males out of all passenger classes.The average for deceased females in passenger 1 had an average age of 25.67, which comes in second for females out of all passenger classes. Deceased females in passenger class 2 had the highest average age for females with an age of 36. The average age for the youngest deceased males and females both come from passenger class 3. \n"
   ]
  },
  {
   "cell_type": "code",
   "execution_count": 17,
   "metadata": {},
   "outputs": [
    {
     "data": {
      "text/plain": [
       "Pclass  Sex   \n",
       "1       female    25.666667\n",
       "        male      44.581967\n",
       "2       female    36.000000\n",
       "        male      33.369048\n",
       "3       female    23.818182\n",
       "        male      27.255814\n",
       "Name: Age, dtype: float64"
      ]
     },
     "execution_count": 17,
     "metadata": {},
     "output_type": "execute_result"
    }
   ],
   "source": [
    "titanic_deceased.groupby(['Pclass','Sex'])['Age'].mean()"
   ]
  },
  {
   "cell_type": "markdown",
   "metadata": {},
   "source": [
    "# Fare"
   ]
  },
  {
   "cell_type": "markdown",
   "metadata": {},
   "source": [
    "While skimming through the dataset, I noticed that there were passengers who didn't pay any fare ( basically passengers who rode for free) on the titanic. I wanted to identify these passengers before I continued any analysis for fare.\n",
    "\n",
    "A total of 15 passengers were on board the titanic without paying any fare. Some interesting facts about this set is that all passengers were male and had no family on board."
   ]
  },
  {
   "cell_type": "code",
   "execution_count": 18,
   "metadata": {},
   "outputs": [
    {
     "data": {
      "text/html": [
       "<div>\n",
       "<style>\n",
       "    .dataframe thead tr:only-child th {\n",
       "        text-align: right;\n",
       "    }\n",
       "\n",
       "    .dataframe thead th {\n",
       "        text-align: left;\n",
       "    }\n",
       "\n",
       "    .dataframe tbody tr th {\n",
       "        vertical-align: top;\n",
       "    }\n",
       "</style>\n",
       "<table border=\"1\" class=\"dataframe\">\n",
       "  <thead>\n",
       "    <tr style=\"text-align: right;\">\n",
       "      <th></th>\n",
       "      <th>PassengerId</th>\n",
       "      <th>Survived</th>\n",
       "      <th>Pclass</th>\n",
       "      <th>Name</th>\n",
       "      <th>Sex</th>\n",
       "      <th>Age</th>\n",
       "      <th>SibSp</th>\n",
       "      <th>Parch</th>\n",
       "      <th>Fare</th>\n",
       "    </tr>\n",
       "  </thead>\n",
       "  <tbody>\n",
       "    <tr>\n",
       "      <th>179</th>\n",
       "      <td>180</td>\n",
       "      <td>0</td>\n",
       "      <td>3</td>\n",
       "      <td>Leonard, Mr. Lionel</td>\n",
       "      <td>male</td>\n",
       "      <td>36.0</td>\n",
       "      <td>0</td>\n",
       "      <td>0</td>\n",
       "      <td>0.0</td>\n",
       "    </tr>\n",
       "    <tr>\n",
       "      <th>263</th>\n",
       "      <td>264</td>\n",
       "      <td>0</td>\n",
       "      <td>1</td>\n",
       "      <td>Harrison, Mr. William</td>\n",
       "      <td>male</td>\n",
       "      <td>40.0</td>\n",
       "      <td>0</td>\n",
       "      <td>0</td>\n",
       "      <td>0.0</td>\n",
       "    </tr>\n",
       "    <tr>\n",
       "      <th>271</th>\n",
       "      <td>272</td>\n",
       "      <td>1</td>\n",
       "      <td>3</td>\n",
       "      <td>Tornquist, Mr. William Henry</td>\n",
       "      <td>male</td>\n",
       "      <td>25.0</td>\n",
       "      <td>0</td>\n",
       "      <td>0</td>\n",
       "      <td>0.0</td>\n",
       "    </tr>\n",
       "    <tr>\n",
       "      <th>277</th>\n",
       "      <td>278</td>\n",
       "      <td>0</td>\n",
       "      <td>2</td>\n",
       "      <td>Parkes, Mr. Francis \"Frank\"</td>\n",
       "      <td>male</td>\n",
       "      <td>NaN</td>\n",
       "      <td>0</td>\n",
       "      <td>0</td>\n",
       "      <td>0.0</td>\n",
       "    </tr>\n",
       "    <tr>\n",
       "      <th>302</th>\n",
       "      <td>303</td>\n",
       "      <td>0</td>\n",
       "      <td>3</td>\n",
       "      <td>Johnson, Mr. William Cahoone Jr</td>\n",
       "      <td>male</td>\n",
       "      <td>19.0</td>\n",
       "      <td>0</td>\n",
       "      <td>0</td>\n",
       "      <td>0.0</td>\n",
       "    </tr>\n",
       "    <tr>\n",
       "      <th>413</th>\n",
       "      <td>414</td>\n",
       "      <td>0</td>\n",
       "      <td>2</td>\n",
       "      <td>Cunningham, Mr. Alfred Fleming</td>\n",
       "      <td>male</td>\n",
       "      <td>NaN</td>\n",
       "      <td>0</td>\n",
       "      <td>0</td>\n",
       "      <td>0.0</td>\n",
       "    </tr>\n",
       "    <tr>\n",
       "      <th>466</th>\n",
       "      <td>467</td>\n",
       "      <td>0</td>\n",
       "      <td>2</td>\n",
       "      <td>Campbell, Mr. William</td>\n",
       "      <td>male</td>\n",
       "      <td>NaN</td>\n",
       "      <td>0</td>\n",
       "      <td>0</td>\n",
       "      <td>0.0</td>\n",
       "    </tr>\n",
       "    <tr>\n",
       "      <th>481</th>\n",
       "      <td>482</td>\n",
       "      <td>0</td>\n",
       "      <td>2</td>\n",
       "      <td>Frost, Mr. Anthony Wood \"Archie\"</td>\n",
       "      <td>male</td>\n",
       "      <td>NaN</td>\n",
       "      <td>0</td>\n",
       "      <td>0</td>\n",
       "      <td>0.0</td>\n",
       "    </tr>\n",
       "    <tr>\n",
       "      <th>597</th>\n",
       "      <td>598</td>\n",
       "      <td>0</td>\n",
       "      <td>3</td>\n",
       "      <td>Johnson, Mr. Alfred</td>\n",
       "      <td>male</td>\n",
       "      <td>49.0</td>\n",
       "      <td>0</td>\n",
       "      <td>0</td>\n",
       "      <td>0.0</td>\n",
       "    </tr>\n",
       "    <tr>\n",
       "      <th>633</th>\n",
       "      <td>634</td>\n",
       "      <td>0</td>\n",
       "      <td>1</td>\n",
       "      <td>Parr, Mr. William Henry Marsh</td>\n",
       "      <td>male</td>\n",
       "      <td>NaN</td>\n",
       "      <td>0</td>\n",
       "      <td>0</td>\n",
       "      <td>0.0</td>\n",
       "    </tr>\n",
       "    <tr>\n",
       "      <th>674</th>\n",
       "      <td>675</td>\n",
       "      <td>0</td>\n",
       "      <td>2</td>\n",
       "      <td>Watson, Mr. Ennis Hastings</td>\n",
       "      <td>male</td>\n",
       "      <td>NaN</td>\n",
       "      <td>0</td>\n",
       "      <td>0</td>\n",
       "      <td>0.0</td>\n",
       "    </tr>\n",
       "    <tr>\n",
       "      <th>732</th>\n",
       "      <td>733</td>\n",
       "      <td>0</td>\n",
       "      <td>2</td>\n",
       "      <td>Knight, Mr. Robert J</td>\n",
       "      <td>male</td>\n",
       "      <td>NaN</td>\n",
       "      <td>0</td>\n",
       "      <td>0</td>\n",
       "      <td>0.0</td>\n",
       "    </tr>\n",
       "    <tr>\n",
       "      <th>806</th>\n",
       "      <td>807</td>\n",
       "      <td>0</td>\n",
       "      <td>1</td>\n",
       "      <td>Andrews, Mr. Thomas Jr</td>\n",
       "      <td>male</td>\n",
       "      <td>39.0</td>\n",
       "      <td>0</td>\n",
       "      <td>0</td>\n",
       "      <td>0.0</td>\n",
       "    </tr>\n",
       "    <tr>\n",
       "      <th>815</th>\n",
       "      <td>816</td>\n",
       "      <td>0</td>\n",
       "      <td>1</td>\n",
       "      <td>Fry, Mr. Richard</td>\n",
       "      <td>male</td>\n",
       "      <td>NaN</td>\n",
       "      <td>0</td>\n",
       "      <td>0</td>\n",
       "      <td>0.0</td>\n",
       "    </tr>\n",
       "    <tr>\n",
       "      <th>822</th>\n",
       "      <td>823</td>\n",
       "      <td>0</td>\n",
       "      <td>1</td>\n",
       "      <td>Reuchlin, Jonkheer. John George</td>\n",
       "      <td>male</td>\n",
       "      <td>38.0</td>\n",
       "      <td>0</td>\n",
       "      <td>0</td>\n",
       "      <td>0.0</td>\n",
       "    </tr>\n",
       "  </tbody>\n",
       "</table>\n",
       "</div>"
      ],
      "text/plain": [
       "     PassengerId  Survived  Pclass                              Name   Sex  \\\n",
       "179          180         0       3               Leonard, Mr. Lionel  male   \n",
       "263          264         0       1             Harrison, Mr. William  male   \n",
       "271          272         1       3      Tornquist, Mr. William Henry  male   \n",
       "277          278         0       2       Parkes, Mr. Francis \"Frank\"  male   \n",
       "302          303         0       3   Johnson, Mr. William Cahoone Jr  male   \n",
       "413          414         0       2    Cunningham, Mr. Alfred Fleming  male   \n",
       "466          467         0       2             Campbell, Mr. William  male   \n",
       "481          482         0       2  Frost, Mr. Anthony Wood \"Archie\"  male   \n",
       "597          598         0       3               Johnson, Mr. Alfred  male   \n",
       "633          634         0       1     Parr, Mr. William Henry Marsh  male   \n",
       "674          675         0       2        Watson, Mr. Ennis Hastings  male   \n",
       "732          733         0       2              Knight, Mr. Robert J  male   \n",
       "806          807         0       1            Andrews, Mr. Thomas Jr  male   \n",
       "815          816         0       1                  Fry, Mr. Richard  male   \n",
       "822          823         0       1   Reuchlin, Jonkheer. John George  male   \n",
       "\n",
       "      Age  SibSp  Parch  Fare  \n",
       "179  36.0      0      0   0.0  \n",
       "263  40.0      0      0   0.0  \n",
       "271  25.0      0      0   0.0  \n",
       "277   NaN      0      0   0.0  \n",
       "302  19.0      0      0   0.0  \n",
       "413   NaN      0      0   0.0  \n",
       "466   NaN      0      0   0.0  \n",
       "481   NaN      0      0   0.0  \n",
       "597  49.0      0      0   0.0  \n",
       "633   NaN      0      0   0.0  \n",
       "674   NaN      0      0   0.0  \n",
       "732   NaN      0      0   0.0  \n",
       "806  39.0      0      0   0.0  \n",
       "815   NaN      0      0   0.0  \n",
       "822  38.0      0      0   0.0  "
      ]
     },
     "execution_count": 18,
     "metadata": {},
     "output_type": "execute_result"
    }
   ],
   "source": [
    "#Free_riders represents the passengers who didn't pay any fare.\n",
    "free_riders = titanic_newset[titanic_newset[\"Fare\"] == 0]\n",
    "free_riders"
   ]
  },
  {
   "cell_type": "markdown",
   "metadata": {},
   "source": [
    "# Describing Fare Data"
   ]
  },
  {
   "cell_type": "markdown",
   "metadata": {},
   "source": [
    "After excluding the passengers who didn't pay any fare, I decided to descibe the fare data by only analyzing those who paid, which has a count for 876 out of 891 passengers. According to the data, the average fare price was 32.7 dollars with a  high standard deviation of 49.93. This tells us that the prices among fares are spread out greatly. The cheapest fare a passenger has paid is 4.02 while the highest being 512.33."
   ]
  },
  {
   "cell_type": "code",
   "execution_count": 19,
   "metadata": {},
   "outputs": [
    {
     "data": {
      "text/html": [
       "<div>\n",
       "<style>\n",
       "    .dataframe thead tr:only-child th {\n",
       "        text-align: right;\n",
       "    }\n",
       "\n",
       "    .dataframe thead th {\n",
       "        text-align: left;\n",
       "    }\n",
       "\n",
       "    .dataframe tbody tr th {\n",
       "        vertical-align: top;\n",
       "    }\n",
       "</style>\n",
       "<table border=\"1\" class=\"dataframe\">\n",
       "  <thead>\n",
       "    <tr style=\"text-align: right;\">\n",
       "      <th></th>\n",
       "      <th>Fare</th>\n",
       "    </tr>\n",
       "  </thead>\n",
       "  <tbody>\n",
       "    <tr>\n",
       "      <th>count</th>\n",
       "      <td>876.000000</td>\n",
       "    </tr>\n",
       "    <tr>\n",
       "      <th>mean</th>\n",
       "      <td>32.755650</td>\n",
       "    </tr>\n",
       "    <tr>\n",
       "      <th>std</th>\n",
       "      <td>49.936826</td>\n",
       "    </tr>\n",
       "    <tr>\n",
       "      <th>min</th>\n",
       "      <td>4.012500</td>\n",
       "    </tr>\n",
       "    <tr>\n",
       "      <th>25%</th>\n",
       "      <td>7.925000</td>\n",
       "    </tr>\n",
       "    <tr>\n",
       "      <th>50%</th>\n",
       "      <td>14.500000</td>\n",
       "    </tr>\n",
       "    <tr>\n",
       "      <th>75%</th>\n",
       "      <td>31.275000</td>\n",
       "    </tr>\n",
       "    <tr>\n",
       "      <th>max</th>\n",
       "      <td>512.329200</td>\n",
       "    </tr>\n",
       "  </tbody>\n",
       "</table>\n",
       "</div>"
      ],
      "text/plain": [
       "             Fare\n",
       "count  876.000000\n",
       "mean    32.755650\n",
       "std     49.936826\n",
       "min      4.012500\n",
       "25%      7.925000\n",
       "50%     14.500000\n",
       "75%     31.275000\n",
       "max    512.329200"
      ]
     },
     "execution_count": 19,
     "metadata": {},
     "output_type": "execute_result"
    }
   ],
   "source": [
    "# The average fare of for each Pclass excluding those who didnt pay any Fare.\n",
    "paid_riders = titanic_newset[titanic_newset[\"Fare\"] > 0]\n",
    "paid_riders[['Fare']].describe()\n"
   ]
  },
  {
   "cell_type": "markdown",
   "metadata": {},
   "source": [
    "# Average Fare based on Pclass"
   ]
  },
  {
   "cell_type": "markdown",
   "metadata": {},
   "source": [
    "The average fare price for passengers based on passenger class shows something very interesting. The average fare in passenger class 1 was very expensive compared to the other two with a fare of 86.14."
   ]
  },
  {
   "cell_type": "code",
   "execution_count": 20,
   "metadata": {},
   "outputs": [
    {
     "data": {
      "text/plain": [
       "Pclass\n",
       "1    86.148874\n",
       "2    21.358661\n",
       "3    13.787875\n",
       "Name: Fare, dtype: float64"
      ]
     },
     "execution_count": 20,
     "metadata": {},
     "output_type": "execute_result"
    }
   ],
   "source": [
    "paid_riders.groupby(['Pclass'])['Fare'].mean()"
   ]
  },
  {
   "cell_type": "markdown",
   "metadata": {},
   "source": [
    "Not only do females in Passenger class 1 have high survival rates, but they also have the most expensive fare according to the data with 106.125. Males in passenger class 1 also have high fare rates on average compared to the other two. Female fare averges are higher than men's fare averages in all classes. Males in passenger class 3 have the lowest fare rates."
   ]
  },
  {
   "cell_type": "code",
   "execution_count": 21,
   "metadata": {},
   "outputs": [
    {
     "data": {
      "text/plain": [
       "Pclass  Sex   \n",
       "1       female    106.125798\n",
       "        male       70.099038\n",
       "2       female     21.970121\n",
       "        male       20.903064\n",
       "3       female     16.118810\n",
       "        male       12.809290\n",
       "Name: Fare, dtype: float64"
      ]
     },
     "execution_count": 21,
     "metadata": {},
     "output_type": "execute_result"
    }
   ],
   "source": [
    "paid_riders.groupby(['Pclass','Sex'])['Fare'].mean()"
   ]
  },
  {
   "cell_type": "markdown",
   "metadata": {},
   "source": [
    "# Who paid the highest fare?"
   ]
  },
  {
   "cell_type": "markdown",
   "metadata": {},
   "source": [
    "A woman by the name of Anna Ward had the highest fare out of every passenger on the ship. She was 35 and had no family members on the titanic. She was also in passenger class 1. She also surivied, as there was always a high chance she would according to the data earlier which explains that females who were in the upper class had a 97% chance of survivng."
   ]
  },
  {
   "cell_type": "code",
   "execution_count": 22,
   "metadata": {},
   "outputs": [
    {
     "data": {
      "text/html": [
       "<div>\n",
       "<style>\n",
       "    .dataframe thead tr:only-child th {\n",
       "        text-align: right;\n",
       "    }\n",
       "\n",
       "    .dataframe thead th {\n",
       "        text-align: left;\n",
       "    }\n",
       "\n",
       "    .dataframe tbody tr th {\n",
       "        vertical-align: top;\n",
       "    }\n",
       "</style>\n",
       "<table border=\"1\" class=\"dataframe\">\n",
       "  <thead>\n",
       "    <tr style=\"text-align: right;\">\n",
       "      <th></th>\n",
       "      <th>PassengerId</th>\n",
       "      <th>Survived</th>\n",
       "      <th>Pclass</th>\n",
       "      <th>Name</th>\n",
       "      <th>Sex</th>\n",
       "      <th>Age</th>\n",
       "      <th>SibSp</th>\n",
       "      <th>Parch</th>\n",
       "      <th>Fare</th>\n",
       "    </tr>\n",
       "  </thead>\n",
       "  <tbody>\n",
       "    <tr>\n",
       "      <th>258</th>\n",
       "      <td>259</td>\n",
       "      <td>1</td>\n",
       "      <td>1</td>\n",
       "      <td>Ward, Miss. Anna</td>\n",
       "      <td>female</td>\n",
       "      <td>35.0</td>\n",
       "      <td>0</td>\n",
       "      <td>0</td>\n",
       "      <td>512.3292</td>\n",
       "    </tr>\n",
       "  </tbody>\n",
       "</table>\n",
       "</div>"
      ],
      "text/plain": [
       "     PassengerId  Survived  Pclass              Name     Sex   Age  SibSp  \\\n",
       "258          259         1       1  Ward, Miss. Anna  female  35.0      0   \n",
       "\n",
       "     Parch      Fare  \n",
       "258      0  512.3292  "
      ]
     },
     "execution_count": 22,
     "metadata": {},
     "output_type": "execute_result"
    }
   ],
   "source": [
    "#Who paid the most fare to the titanic \n",
    "#https://www.encyclopedia-titanica.org/titanic-survivor/annie-moore-ward.html\n",
    "titanic_newset.loc[[paid_riders['Fare'].idxmax()]]\n",
    "\n"
   ]
  },
  {
   "cell_type": "markdown",
   "metadata": {},
   "source": [
    "# Who paid the lowest fare?"
   ]
  },
  {
   "cell_type": "markdown",
   "metadata": {},
   "source": [
    "A man by the name of Tannous Bestros had the lowest fare out of every passenger on the ship. He was 20 and had no family members on the titanic. He was also in passenger class 3. Tannous did not survive. as there was always a very low chance he would survive according to the data earlier which explains that males who were in the lower class had a 13.5% chance of survivng."
   ]
  },
  {
   "cell_type": "code",
   "execution_count": 23,
   "metadata": {},
   "outputs": [
    {
     "data": {
      "text/html": [
       "<div>\n",
       "<style>\n",
       "    .dataframe thead tr:only-child th {\n",
       "        text-align: right;\n",
       "    }\n",
       "\n",
       "    .dataframe thead th {\n",
       "        text-align: left;\n",
       "    }\n",
       "\n",
       "    .dataframe tbody tr th {\n",
       "        vertical-align: top;\n",
       "    }\n",
       "</style>\n",
       "<table border=\"1\" class=\"dataframe\">\n",
       "  <thead>\n",
       "    <tr style=\"text-align: right;\">\n",
       "      <th></th>\n",
       "      <th>PassengerId</th>\n",
       "      <th>Survived</th>\n",
       "      <th>Pclass</th>\n",
       "      <th>Name</th>\n",
       "      <th>Sex</th>\n",
       "      <th>Age</th>\n",
       "      <th>SibSp</th>\n",
       "      <th>Parch</th>\n",
       "      <th>Fare</th>\n",
       "    </tr>\n",
       "  </thead>\n",
       "  <tbody>\n",
       "    <tr>\n",
       "      <th>378</th>\n",
       "      <td>379</td>\n",
       "      <td>0</td>\n",
       "      <td>3</td>\n",
       "      <td>Betros, Mr. Tannous</td>\n",
       "      <td>male</td>\n",
       "      <td>20.0</td>\n",
       "      <td>0</td>\n",
       "      <td>0</td>\n",
       "      <td>4.0125</td>\n",
       "    </tr>\n",
       "  </tbody>\n",
       "</table>\n",
       "</div>"
      ],
      "text/plain": [
       "     PassengerId  Survived  Pclass                 Name   Sex   Age  SibSp  \\\n",
       "378          379         0       3  Betros, Mr. Tannous  male  20.0      0   \n",
       "\n",
       "     Parch    Fare  \n",
       "378      0  4.0125  "
      ]
     },
     "execution_count": 23,
     "metadata": {},
     "output_type": "execute_result"
    }
   ],
   "source": [
    "#Who paid the lowest fare to the titanic\n",
    "#https://www.encyclopedia-titanica.org/titanic-victim/tannous-betros.html\n",
    "titanic_newset.loc[[paid_riders['Fare'].idxmin()]]"
   ]
  },
  {
   "cell_type": "markdown",
   "metadata": {},
   "source": [
    "# Correlations"
   ]
  },
  {
   "cell_type": "code",
   "execution_count": 24,
   "metadata": {
    "collapsed": true
   },
   "outputs": [],
   "source": [
    "def correlation(x,y):\n",
    "    std_x = ( x - x.mean()) / x.std(ddof=0)\n",
    "    std_y = (y - y.mean()) / y.std(ddof=0)\n",
    "    \n",
    "    return(std_x * std_y).mean()"
   ]
  },
  {
   "cell_type": "markdown",
   "metadata": {},
   "source": [
    "There's a considerable positive correlation between Fare and Survival. As Fare increases, survival tends to increase as well vice versa."
   ]
  },
  {
   "cell_type": "code",
   "execution_count": 25,
   "metadata": {},
   "outputs": [
    {
     "data": {
      "text/plain": [
       "0.2573065223849616"
      ]
     },
     "execution_count": 25,
     "metadata": {},
     "output_type": "execute_result"
    }
   ],
   "source": [
    "correlation(titanic_newset['Fare'],titanic_newset['Survived'])"
   ]
  },
  {
   "cell_type": "markdown",
   "metadata": {},
   "source": [
    "There's a small positive correlation between Age and Fare. As age increases, the fare tends to increase as well vice versa."
   ]
  },
  {
   "cell_type": "code",
   "execution_count": 26,
   "metadata": {},
   "outputs": [
    {
     "data": {
      "text/plain": [
       "0.1022879397576524"
      ]
     },
     "execution_count": 26,
     "metadata": {},
     "output_type": "execute_result"
    }
   ],
   "source": [
    "correlation(titanic_newset['Fare'],titanic_newset['Age'])"
   ]
  },
  {
   "cell_type": "markdown",
   "metadata": {},
   "source": [
    "There's a considerable negative correlation between Pclass and Survival. As Pclass increases, survival tends to decrease vice versa."
   ]
  },
  {
   "cell_type": "code",
   "execution_count": 27,
   "metadata": {},
   "outputs": [
    {
     "data": {
      "text/plain": [
       "-0.33848103596101325"
      ]
     },
     "execution_count": 27,
     "metadata": {},
     "output_type": "execute_result"
    }
   ],
   "source": [
    "correlation(titanic_newset['Survived'],titanic_newset['Pclass'])"
   ]
  },
  {
   "cell_type": "markdown",
   "metadata": {},
   "source": [
    "There's a considerable negative correlation between Pclass and Age. As Pclass increases, Age tends to decrease vice versa."
   ]
  },
  {
   "cell_type": "code",
   "execution_count": 28,
   "metadata": {},
   "outputs": [
    {
     "data": {
      "text/plain": [
       "-0.3701365794564008"
      ]
     },
     "execution_count": 28,
     "metadata": {},
     "output_type": "execute_result"
    }
   ],
   "source": [
    "correlation(titanic_newset['Age'],titanic_newset['Pclass'])"
   ]
  },
  {
   "cell_type": "markdown",
   "metadata": {},
   "source": [
    "There's a considerable negative correlation between Pclass and Fare. As Pclass increases, the fare tends to decrease vice versa."
   ]
  },
  {
   "cell_type": "code",
   "execution_count": 29,
   "metadata": {},
   "outputs": [
    {
     "data": {
      "text/plain": [
       "-0.5494996199439044"
      ]
     },
     "execution_count": 29,
     "metadata": {},
     "output_type": "execute_result"
    }
   ],
   "source": [
    "correlation(titanic_newset['Fare'],titanic_newset['Pclass'])"
   ]
  },
  {
   "cell_type": "markdown",
   "metadata": {},
   "source": [
    "# Conclusion"
   ]
  },
  {
   "cell_type": "markdown",
   "metadata": {
    "collapsed": true
   },
   "source": [
    "The main ideas of this report were to help analyze passenger data of those were on the titanic based on their passenger class, how their sex and age affected their survival, how much they paid for fare, and much more that was stated in the beginning of this project. The analysis in this report was substantial enough to ask questions. Some obvious limitations was the fact that I only had access to 891 passengers instead of 2224. The age data was something that I used frequently and it was also disheartening that age only accounted for 714 passengers, which was taken into consideration when anlyzing the titanic dataset..\n",
    "\n",
    "Per the data,  the majority of the passengers on the titanic were in pclass 3 with 491 , while pclass 2, had the fewest amount of passengers with 184. Passenger class 1 had a total of 216 and most of that class survived while more than half passengers in pclass 3 died, which could mean that passengers in pclass 1 had more access to lifeboats. There were more males on the ship than females. An interesting note is the female total in pclass 3. females in pcalss 3 had the most out of every pclass group with 144.\n",
    "\n",
    "For the most part women that were a priority for safety and survival, particularly within the pclass 1 and 2. For females in pclass 3, half of them survied while the other half died during the sinking of the Titanic. Many males, especially males in pclass 3, perished while on the sinking ship when compared to the males that survived. Females in pclass 1 and 2 had a very high rate of survival, which means they were mostly likely to live during the sinking of titanic. Females in the third passenger class, like stated earlier, had a 50% chance of surival while on the titanic. Women were indeed a priority for ensuring saftey during the sinking of the titanic, but the data for men shows a differnt story. Males had less than a 50% survival rate for every pclass. Even though males had a low survival rate all across the board, men in pclass 1 had a higher surival percentage of 36.9%. Males in pclass 2 and 3 had percentages of 15.7% and 13.5% respectively. If you were a male on the titanic in pclass 2 and 3, your chances of survival were very slim.\n",
    "\n",
    "Age accounted for 714 of the passengers. The average age of all passengers reported in the titanic datset is roughly 30 (29.6). The standard deviation of Age in this dataset is 14.53, which tells me that the data for the variable is spread out. The youngest person on the ship is .42 years old, a baby, while the oldest person is 80 years old. The majority of passengers on the Titanic were in their 20s while passenegers in their 30s and 40s come in second and third respectively. It is safe to say that the majority of passengers were in between 20 and 40 years old. According to the histogram there were quite a number of kids on board the titanic from ages 0-10.There were plenty of survivors who were in their 20s and 30s since the majority of passengers. It was interesting to see how manny children(ages 0-10) were on the titanic, ranging around 35 kids saved based on the data. =Living males in pclass 1 top the entire list as being the oldest with an average age of 36.24. Males in this class are also the oldest males out of all passenger classes. The average age for living females in pclass 1 also top the list with an average age of 34.93, higher than the averages ages in the other classes. Living males in pclass 2 had the youngest group out of all classes and sex with an average age of 16.02. The lowest average age for females comes from pclass 3 with an average age of 19.33.\n",
    "\n",
    "\n",
    "Passengers in their 20s and 30s were the majority for deceased passengers. Deceased males in pclass 1 top the entire list as being the oldest with an average age of 44.58. Deceased males in this class are also the oldest males out of all passenger classes.The average for deceased females in pclass 1 had an average age of 25.67, which comes in second for females out of all passenger classes. Deceased females in pclass 2 had the highest average age for females with an age of 36. The average age for the youngest deceased males and females both come from pclass 3. \n",
    "\n",
    "A total of 15 passengers were on board the titanic without paying any fare. Some interesting facts about this set is that all passengers were male and had no family on board. The average fare price for passengers based on passenger class shows something very interesting. The average fare in pclass 1 was very expensive compared to the other two with a fare of 86.14. Pclass 2 and 3 had average fares of 21.35 and 17.38 respectively. Not only do females in pclass 1 have high survival rates, but they also have the most expensive fare according to the data with 106.125. Males in pclass 1 also have high fare rates on average compared to the other two. Female fare averges are higher than men's fare averages in all classes. Males in pclass 3 have the lowest fare rates.\n",
    "\n",
    "A woman by the name of Anna Ward had the highest fare out of every passenger on the ship. She was 35 and had no family members on the titanic. She was also in pclass 1. She also surivied, as there was always a high chance she would according to the data earlier which explains that females who were in the upper class had a 97% chance of survivng. A man by the name of Tannous Bestros had the lowest fare out of every passenger on the ship. He was 20 and had no family members on the titanic. He was also in pclass 3. Tannous did not survive. as there was always a very low chance he would survive according to the data earlier which explains that males who were in the lower class had a 13.5% chance of survivng.\n",
    "\n",
    "Based on the data, those who have paid a higher fare tend to have high survival rates. Passengers who are placed in a higher pclass tend to have a lower survival rate. This works vice versa. Passengers who are older tend to have a lower pclass, meaning that older passengers  tend to be in pclass 1. This works vice versa as well. Passengers who paid a higher fare also had a lower pclass. This also works vice versa. I didn't face any drastic challenges, but I did come into contact with values that had missing data and values. Like stated earlier, this dataset's limitations revolved around not having all passenger information. Having the data from every passenger could have a massive effect on our findings.\n",
    "\n"
   ]
  },
  {
   "cell_type": "code",
   "execution_count": null,
   "metadata": {
    "collapsed": true
   },
   "outputs": [],
   "source": []
  }
 ],
 "metadata": {
  "celltoolbar": "Raw Cell Format",
  "kernelspec": {
   "display_name": "Python 3",
   "language": "python",
   "name": "python3"
  },
  "language_info": {
   "codemirror_mode": {
    "name": "ipython",
    "version": 3
   },
   "file_extension": ".py",
   "mimetype": "text/x-python",
   "name": "python",
   "nbconvert_exporter": "python",
   "pygments_lexer": "ipython3",
   "version": "3.6.1"
  }
 },
 "nbformat": 4,
 "nbformat_minor": 2
}
